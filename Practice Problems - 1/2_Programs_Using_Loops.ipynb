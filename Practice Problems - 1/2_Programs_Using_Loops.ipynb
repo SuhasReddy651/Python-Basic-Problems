{
 "cells": [
  {
   "cell_type": "markdown",
   "id": "f2bdf617",
   "metadata": {},
   "source": [
    "# <center>Programs Using Loops</center>"
   ]
  },
  {
   "cell_type": "markdown",
   "id": "6b1f0530",
   "metadata": {},
   "source": [
    "## Problem 11: Factorial Without Using Function\n",
    "\n",
    "### 📝 Problem Statement\n",
    "Write a program to **calculate the factorial of a number** using loops, **without using a separate function**.\n",
    "\n",
    "The program should:\n",
    "- Prompt the user to enter a non-negative integer\n",
    "- Use a loop (e.g., `for` or `while`) to compute the factorial\n",
    "- Display the result\n",
    "\n",
    "---\n",
    "\n",
    "### 🔢 Input\n",
    "- A non-negative integer `n`\n",
    "\n",
    "#### Example Input\n",
    "```\n",
    "Enter a number: 5\n",
    "```\n",
    "\n",
    "---\n",
    "\n",
    "### 📤 Output\n",
    "- The factorial of the number\n",
    "\n",
    "#### Example Output\n",
    "```\n",
    "Factorial of 5 is 120\n",
    "```\n",
    "\n",
    "---\n",
    "\n",
    "### 🔎 Notes\n",
    "- Factorial of 0 is defined as 1\n",
    "- Factorial of a number `n` is:  \n",
    "  ```\n",
    "  n! = n × (n−1) × (n−2) × ... × 1\n",
    "  ```\n",
    "\n",
    "---"
   ]
  },
  {
   "cell_type": "code",
   "execution_count": 4,
   "id": "bac1dac8",
   "metadata": {},
   "outputs": [
    {
     "name": "stdout",
     "output_type": "stream",
     "text": [
      "Factorial of 10 is 3628800\n"
     ]
    }
   ],
   "source": [
    "n = int(input(\"Enter a number: \"))\n",
    "fact = 1\n",
    "print(f\"Factorial of {n} is\", end=\" \")\n",
    "if n == 0 or n == 1:\n",
    "    print(fact)\n",
    "else:\n",
    "    while n>0:\n",
    "        fact *= n\n",
    "        n -= 1\n",
    "    \n",
    "    print(fact)"
   ]
  },
  {
   "cell_type": "markdown",
   "id": "26759a7d",
   "metadata": {},
   "source": [
    "## Problem 12: Square of N\n",
    "\n",
    "### 📝 Problem Statement\n",
    "Write a program to **print the square of numbers from 1 to N** using loops.\n",
    "\n",
    "The program should:\n",
    "- Prompt the user to enter a positive integer `N`\n",
    "- Use a loop to compute and print the square of every number from 1 to N\n",
    "- Display each number alongside its square\n",
    "\n",
    "---\n",
    "\n",
    "### 🔢 Input\n",
    "- A positive integer `N`\n",
    "\n",
    "#### Example Input\n",
    "```\n",
    "Enter a number: 5\n",
    "```\n",
    "\n",
    "---\n",
    "\n",
    "### 📤 Output\n",
    "- The square of each number from 1 to N\n",
    "\n",
    "#### Example Output\n",
    "```\n",
    "1^2 = 1\n",
    "2^2 = 4\n",
    "3^2 = 9\n",
    "4^2 = 16\n",
    "5^2 = 25\n",
    "```\n",
    "\n",
    "---\n",
    "\n",
    "### 🔎 Notes\n",
    "- Use a `for` loop for clean iteration\n",
    "- You can use `**` or `*` to compute the square\n",
    "\n",
    "---"
   ]
  },
  {
   "cell_type": "code",
   "execution_count": 5,
   "id": "eeb625cb",
   "metadata": {},
   "outputs": [
    {
     "name": "stdout",
     "output_type": "stream",
     "text": [
      "1^2 = 1\n",
      "2^2 = 4\n",
      "3^2 = 9\n",
      "4^2 = 16\n",
      "5^2 = 25\n",
      "6^2 = 36\n",
      "7^2 = 49\n",
      "8^2 = 64\n",
      "9^2 = 81\n",
      "10^2 = 100\n"
     ]
    }
   ],
   "source": [
    "n = int(input(\"Enter a number: \"))\n",
    "\n",
    "for i in range(1, n+1):\n",
    "    print(f\"{i}^2 = {i*i}\")"
   ]
  },
  {
   "cell_type": "markdown",
   "id": "f1a0f636",
   "metadata": {},
   "source": [
    "## Problem 13: Calculate x to the Power y\n",
    "\n",
    "### 📝 Problem Statement\n",
    "Write a program to **calculate x raised to the power y (x^y)** using loops.\n",
    "\n",
    "The program should:\n",
    "- Prompt the user to enter two integers: base `x` and exponent `y`\n",
    "- Use a loop (e.g., `for`) to calculate the result without using built-in power functions\n",
    "- Display the final result\n",
    "\n",
    "---\n",
    "\n",
    "### 🔢 Input\n",
    "- Two integers: base `x` and exponent `y` (y should be a non-negative integer)\n",
    "\n",
    "#### Example Input\n",
    "```\n",
    "Enter base: 2\n",
    "Enter exponent: 5\n",
    "```\n",
    "\n",
    "---\n",
    "\n",
    "### 📤 Output\n",
    "- The result of x raised to the power y\n",
    "\n",
    "#### Example Output\n",
    "```\n",
    "2^5 = 32\n",
    "```\n",
    "\n",
    "---\n",
    "\n",
    "### 🔎 Notes\n",
    "- Do not use `pow()` or `**` operators\n",
    "- Use a loop and multiply x, y times\n",
    "- If y = 0, the result is always 1 (except when x = 0)\n",
    "\n",
    "---"
   ]
  },
  {
   "cell_type": "code",
   "execution_count": 6,
   "id": "063d6d42",
   "metadata": {},
   "outputs": [
    {
     "name": "stdout",
     "output_type": "stream",
     "text": [
      "2^5 = 32\n"
     ]
    }
   ],
   "source": [
    "x = int(input(\"Enter base: \"))\n",
    "y = int(input(\"Enter exponent: \"))\n",
    "ans = 1\n",
    "if y == 0:\n",
    "    print(f\"{x}^{y} = {ans}\")\n",
    "else:\n",
    "    for i in range(1, y+1):\n",
    "        ans *= x\n",
    "    print(f\"{x}^{y} = {ans}\")"
   ]
  },
  {
   "cell_type": "markdown",
   "id": "821b7f0a",
   "metadata": {},
   "source": [
    "## Problem 14: Multiplication Table\n",
    "\n",
    "### 📝 Problem Statement\n",
    "Write a program to **print the multiplication table of a given number** using a loop.\n",
    "\n",
    "The program should:\n",
    "- Prompt the user to enter a number\n",
    "- Print the multiplication table for that number up to 10 (or any desired range)\n",
    "- Use a loop to iterate and display each step\n",
    "\n",
    "---\n",
    "\n",
    "### 🔢 Input\n",
    "- An integer number for which the multiplication table is to be printed\n",
    "\n",
    "#### Example Input\n",
    "```\n",
    "Enter a number: 7\n",
    "```\n",
    "\n",
    "---\n",
    "\n",
    "### 📤 Output\n",
    "- The multiplication table of the entered number\n",
    "\n",
    "#### Example Output\n",
    "```\n",
    "7 x 1 = 7\n",
    "7 x 2 = 14\n",
    "7 x 3 = 21\n",
    "7 x 4 = 28\n",
    "7 x 5 = 35\n",
    "7 x 6 = 42\n",
    "7 x 7 = 49\n",
    "7 x 8 = 56\n",
    "7 x 9 = 63\n",
    "7 x 10 = 70\n",
    "```\n",
    "\n",
    "---\n",
    "\n",
    "### 🔎 Notes\n",
    "- Use a `for` loop from 1 to 10\n",
    "- The output format should clearly show each step of the multiplication\n",
    "\n",
    "---"
   ]
  },
  {
   "cell_type": "code",
   "execution_count": 7,
   "id": "3eced50a",
   "metadata": {},
   "outputs": [
    {
     "name": "stdout",
     "output_type": "stream",
     "text": [
      "10 x 1 = 10\n",
      "10 x 2 = 20\n",
      "10 x 3 = 30\n",
      "10 x 4 = 40\n",
      "10 x 5 = 50\n",
      "10 x 6 = 60\n",
      "10 x 7 = 70\n",
      "10 x 8 = 80\n",
      "10 x 9 = 90\n",
      "10 x 10 = 100\n"
     ]
    }
   ],
   "source": [
    "n = int(input(\"Enter a number: \"))\n",
    "for i in range(1, 11):\n",
    "    print(f\"{n} x {i} = {n*i}\")"
   ]
  },
  {
   "cell_type": "markdown",
   "id": "7f96d61d",
   "metadata": {},
   "source": [
    "## Problem 15: Sum of Natural Numbers\n",
    "\n",
    "### 📝 Problem Statement\n",
    "Write a program to **calculate the sum of the first N natural numbers** using a loop.\n",
    "\n",
    "The program should:\n",
    "- Prompt the user to enter a positive integer `N`\n",
    "- Use a loop to add numbers from 1 to `N`\n",
    "- Display the final sum\n",
    "\n",
    "---\n",
    "\n",
    "### 🔢 Input\n",
    "- A positive integer `N`\n",
    "\n",
    "#### Example Input\n",
    "```\n",
    "Enter a number: 5\n",
    "```\n",
    "\n",
    "---\n",
    "\n",
    "### 📤 Output\n",
    "- The sum of the first N natural numbers\n",
    "\n",
    "#### Example Output\n",
    "```\n",
    "Sum of first 5 natural numbers = 15\n",
    "```\n",
    "\n",
    "---\n",
    "\n",
    "### 🔎 Notes\n",
    "- Natural numbers start from 1\n",
    "- You may use a `for` loop or `while` loop\n",
    "- Alternatively, the formula `N * (N + 1) / 2` can be used for constant-time calculation\n",
    "\n",
    "---"
   ]
  },
  {
   "cell_type": "code",
   "execution_count": 9,
   "id": "9da1c00d",
   "metadata": {},
   "outputs": [
    {
     "name": "stdout",
     "output_type": "stream",
     "text": [
      "Sum of first 5 natural numbers = 15\n"
     ]
    }
   ],
   "source": [
    "n = int(input(\"Enter a number: \"))\n",
    "sum = 0\n",
    "for i in range(1, n+1):\n",
    "    sum += i\n",
    "    \n",
    "print(f\"Sum of first {n} natural numbers = {sum}\")"
   ]
  },
  {
   "cell_type": "code",
   "execution_count": 12,
   "id": "ee26facc",
   "metadata": {},
   "outputs": [
    {
     "name": "stdout",
     "output_type": "stream",
     "text": [
      "Sum of first 20 natural numbers = 210\n"
     ]
    }
   ],
   "source": [
    "n = int(input(\"Enter a number: \"))\n",
    "if n <= 0:\n",
    "    print(\"Enter a Natural Number\")\n",
    "else:\n",
    "    sum = int((n * (n + 1))/2)\n",
    "    print(f\"Sum of first {n} natural numbers = {sum}\")"
   ]
  },
  {
   "cell_type": "markdown",
   "id": "914fb0b8",
   "metadata": {},
   "source": [
    "## Problem 16: Fibonacci Starting from Any Two Numbers\n",
    "\n",
    "### 📝 Problem Statement\n",
    "Write a program to **generate a Fibonacci series starting from any two numbers**, not just 0 and 1.\n",
    "\n",
    "The program should:\n",
    "- Prompt the user to enter the first two numbers\n",
    "- Ask how many terms (`n`) of the sequence to generate\n",
    "- Use a loop to print the Fibonacci sequence starting from the two given numbers\n",
    "\n",
    "---\n",
    "\n",
    "### 🔢 Input\n",
    "- First number (integer)\n",
    "- Second number (integer)\n",
    "- Number of terms `n` to generate (integer)\n",
    "\n",
    "#### Example Input\n",
    "```\n",
    "Enter first number: 3\n",
    "Enter second number: 5\n",
    "Enter number of terms: 6\n",
    "```\n",
    "\n",
    "---\n",
    "\n",
    "### 📤 Output\n",
    "- The generated Fibonacci sequence\n",
    "\n",
    "#### Example Output\n",
    "```\n",
    "Fibonacci sequence:\n",
    "3 5 8 13 21 34\n",
    "```\n",
    "\n",
    "---\n",
    "\n",
    "### 🔎 Notes\n",
    "- Each number in the sequence is the sum of the previous two numbers\n",
    "- Use a `for` or `while` loop to iterate through and update values\n",
    "\n",
    "---"
   ]
  },
  {
   "cell_type": "code",
   "execution_count": 13,
   "id": "8bea7c77",
   "metadata": {},
   "outputs": [
    {
     "name": "stdout",
     "output_type": "stream",
     "text": [
      "3 5 8 13 21 34 55 89 "
     ]
    }
   ],
   "source": [
    "x = int(input(\"Enter the first number: \"))\n",
    "y = int(input(\"Enter the second number: \"))\n",
    "t = int(input(\"Enter number of terms: \"))\n",
    "t = t -2\n",
    "print(f\"{x} {y}\", end=\" \")\n",
    "while t > 0:\n",
    "    term = x + y\n",
    "    print(f\"{term}\", end=\" \")\n",
    "    x = y\n",
    "    y = term\n",
    "    t -= 1"
   ]
  },
  {
   "cell_type": "markdown",
   "id": "39cc2107",
   "metadata": {},
   "source": [
    "## Problem 17: Uppercase to Lowercase Conversion\n",
    "\n",
    "### 📝 Problem Statement\n",
    "Write a program to **convert an uppercase letter to a lowercase letter** using loops and ASCII manipulation.\n",
    "\n",
    "The program should:\n",
    "- Prompt the user to enter an uppercase character\n",
    "- Convert it to lowercase by adjusting the ASCII value\n",
    "- Display the lowercase equivalent\n",
    "\n",
    "---\n",
    "\n",
    "### 🔢 Input\n",
    "- A single uppercase alphabet character\n",
    "\n",
    "#### Example Input\n",
    "```\n",
    "Enter an uppercase character: G\n",
    "```\n",
    "\n",
    "---\n",
    "\n",
    "### 📤 Output\n",
    "- The lowercase equivalent of the input character\n",
    "\n",
    "#### Example Output\n",
    "```\n",
    "Lowercase character: g\n",
    "```\n",
    "\n",
    "---\n",
    "\n",
    "### 🔎 Notes\n",
    "- In ASCII, the difference between uppercase and lowercase letters is 32  \n",
    "  (`A` = 65, `a` = 97)\n",
    "- You can convert by: `lower = chr(ord(char) + 32)`\n",
    "- Make sure to check that input is in uppercase before conversion\n",
    "\n",
    "---"
   ]
  },
  {
   "cell_type": "code",
   "execution_count": 19,
   "id": "642368c2",
   "metadata": {},
   "outputs": [
    {
     "name": "stdout",
     "output_type": "stream",
     "text": [
      "Lower Case:  python\n"
     ]
    }
   ],
   "source": [
    "st1 = input(\"Enter a Upper Case Word: \")\n",
    "st2 = \"\"\n",
    "\n",
    "for l in st1:\n",
    "    lower = chr(ord(l) + 32)\n",
    "    st2 += lower\n",
    "    \n",
    "st2 = st2.replace(\"@\", \" \")\n",
    "    \n",
    "print(\"Lower Case: \", st2)"
   ]
  },
  {
   "cell_type": "markdown",
   "id": "dc0934f4",
   "metadata": {},
   "source": [
    "## Problem 18: Lowercase to Uppercase Conversion\n",
    "\n",
    "### 📝 Problem Statement\n",
    "Write a program to **convert a lowercase letter to an uppercase letter** using loops and ASCII manipulation.\n",
    "\n",
    "The program should:\n",
    "- Prompt the user to enter a lowercase character\n",
    "- Convert it to uppercase by adjusting the ASCII value\n",
    "- Display the uppercase equivalent\n",
    "\n",
    "---\n",
    "\n",
    "### 🔢 Input\n",
    "- A single lowercase alphabet character\n",
    "\n",
    "#### Example Input\n",
    "```\n",
    "Enter a lowercase character: k\n",
    "```\n",
    "\n",
    "---\n",
    "\n",
    "### 📤 Output\n",
    "- The uppercase equivalent of the input character\n",
    "\n",
    "#### Example Output\n",
    "```\n",
    "Uppercase character: K\n",
    "```\n",
    "\n",
    "---\n",
    "\n",
    "### 🔎 Notes\n",
    "- In ASCII, the difference between lowercase and uppercase letters is 32  \n",
    "  (`a` = 97, `A` = 65)\n",
    "- You can convert by: `upper = chr(ord(char) - 32)`\n",
    "- Make sure to check that input is in lowercase before conversion\n",
    "\n",
    "---"
   ]
  },
  {
   "cell_type": "code",
   "execution_count": 20,
   "id": "128df159",
   "metadata": {},
   "outputs": [
    {
     "name": "stdout",
     "output_type": "stream",
     "text": [
      "Upper Case:  PYTHON\n"
     ]
    }
   ],
   "source": [
    "st1 = input(\"Enter a Lower Case Word: \")\n",
    "st2 = \"\"\n",
    "\n",
    "for l in st1:\n",
    "    upper = chr(ord(l) - 32)\n",
    "    st2 += upper\n",
    "    \n",
    "st2 = st2.replace(\"@\", \" \")\n",
    "    \n",
    "print(\"Upper Case: \", st2)"
   ]
  },
  {
   "cell_type": "markdown",
   "id": "a6093b54",
   "metadata": {},
   "source": [
    "## Problem 19: Pascal Triangle\n",
    "\n",
    "### 📝 Problem Statement\n",
    "Write a program to **print Pascal’s Triangle** up to `n` rows using loops.\n",
    "\n",
    "The program should:\n",
    "- Prompt the user to enter the number of rows `n`\n",
    "- Use nested loops to print Pascal’s Triangle\n",
    "- Calculate values using combinations:  \n",
    "  ```\n",
    "  C(n, k) = n! / (k! * (n - k)!)\n",
    "  ```\n",
    "\n",
    "---\n",
    "\n",
    "### 🔢 Input\n",
    "- A positive integer `n` representing number of rows\n",
    "\n",
    "#### Example Input\n",
    "```\n",
    "Enter number of rows: 5\n",
    "```\n",
    "\n",
    "---\n",
    "\n",
    "### 📤 Output\n",
    "- Pascal’s Triangle with `n` rows\n",
    "\n",
    "#### Example Output\n",
    "```\n",
    "        1\n",
    "      1   1\n",
    "    1   2   1\n",
    "  1   3   3   1\n",
    "1   4   6   4   1\n",
    "```\n",
    "\n",
    "---\n",
    "\n",
    "### 🔎 Notes\n",
    "- Use proper spacing to align the triangle\n",
    "- You can calculate factorials manually or with a helper function\n",
    "- Symmetry is a key property of Pascal’s Triangle\n",
    "\n",
    "---"
   ]
  },
  {
   "cell_type": "code",
   "execution_count": 23,
   "id": "eae95ba0",
   "metadata": {},
   "outputs": [
    {
     "name": "stdout",
     "output_type": "stream",
     "text": [
      "     1\n",
      "    1 1\n",
      "   1 2 1\n",
      "  1 3 3 1\n",
      " 1 4 6 4 1\n",
      "1 5 10 10 5 1\n"
     ]
    }
   ],
   "source": [
    "n = int(input(\"Enter number of rows: \"))\n",
    "\n",
    "if n <= 0:\n",
    "    print(\"No triangle is possible\")\n",
    "else:\n",
    "    arr = []\n",
    "    \n",
    "    for i in range(n):\n",
    "        row = [1]\n",
    "        \n",
    "        if i > 0:\n",
    "            for j in range(1, i):\n",
    "                row.append(arr[i-1][j-1] + arr[i-1][j])\n",
    "            row.append(1)\n",
    "        \n",
    "        arr.append(row)\n",
    "        \n",
    "        print(\" \" * (n - i - 1), end=\"\")\n",
    "        print(\" \".join(map(str, row)))"
   ]
  },
  {
   "cell_type": "code",
   "execution_count": null,
   "id": "750b985b",
   "metadata": {},
   "outputs": [],
   "source": []
  }
 ],
 "metadata": {
  "kernelspec": {
   "display_name": "env",
   "language": "python",
   "name": "python3"
  },
  "language_info": {
   "codemirror_mode": {
    "name": "ipython",
    "version": 3
   },
   "file_extension": ".py",
   "mimetype": "text/x-python",
   "name": "python",
   "nbconvert_exporter": "python",
   "pygments_lexer": "ipython3",
   "version": "3.13.3"
  }
 },
 "nbformat": 4,
 "nbformat_minor": 5
}
