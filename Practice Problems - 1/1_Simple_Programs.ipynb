{
 "cells": [
  {
   "cell_type": "markdown",
   "id": "255ba562",
   "metadata": {},
   "source": [
    "# <center>Simple Problems</center>"
   ]
  },
  {
   "cell_type": "markdown",
   "id": "935c7513",
   "metadata": {},
   "source": [
    "## Problem 1: Area of a Rectangle\n",
    "\n",
    "### 📝 Problem Statement\n",
    "Write a program to **calculate the area of a rectangle**.  \n",
    "The area of a rectangle is calculated using the formula:\n",
    "\n",
    "```\n",
    "Area = Length × Breadth\n",
    "```\n",
    "\n",
    "The program should:\n",
    "- Prompt the user to enter the **length** and **breadth**\n",
    "- Compute the area\n",
    "- Display the result\n",
    "\n",
    "---\n",
    "\n",
    "### 🔢 Input\n",
    "- An integer representing the **length** of the rectangle\n",
    "- An integer representing the **breadth** of the rectangle\n",
    "\n",
    "#### Example Input\n",
    "```\n",
    "Length = 5\n",
    "Breadth = 10\n",
    "```\n",
    "\n",
    "---\n",
    "\n",
    "### 📤 Output\n",
    "- An integer representing the **area** of the rectangle\n",
    "\n",
    "#### Example Output\n",
    "```\n",
    "Area of Rectangle = 50\n",
    "```\n",
    "\n",
    "---"
   ]
  },
  {
   "cell_type": "code",
   "execution_count": 1,
   "id": "b4cc1557",
   "metadata": {},
   "outputs": [
    {
     "name": "stdout",
     "output_type": "stream",
     "text": [
      "Area of Rectangle =  50\n"
     ]
    }
   ],
   "source": [
    "length = int(input(\"Length = \"))\n",
    "breadth = int(input(\"Breadth = \"))\n",
    "\n",
    "area = length * breadth\n",
    "\n",
    "print(\"Area of Rectangle = \", area)"
   ]
  },
  {
   "cell_type": "markdown",
   "id": "8cb2d2c2",
   "metadata": {},
   "source": [
    "## Problem 2: ASCII Value of a Character\n",
    "\n",
    "### 📝 Problem Statement\n",
    "Write a program to **find the ASCII value of a character**.\n",
    "\n",
    "The program should:\n",
    "- Prompt the user to enter a **character**\n",
    "- Print the **ASCII value** of that character using typecasting or direct integer representation\n",
    "\n",
    "---\n",
    "\n",
    "### 🔢 Input\n",
    "- A single character (e.g., `A`, `z`, `5`, etc.)\n",
    "\n",
    "#### Example Input\n",
    "```\n",
    "Enter a character: A\n",
    "```\n",
    "\n",
    "---\n",
    "\n",
    "### 📤 Output\n",
    "- An integer representing the ASCII value of the input character\n",
    "\n",
    "#### Example Output\n",
    "```\n",
    "ASCII value of A = 65\n",
    "```\n",
    "\n",
    "---"
   ]
  },
  {
   "cell_type": "code",
   "execution_count": 2,
   "id": "fa5d03e0",
   "metadata": {},
   "outputs": [
    {
     "name": "stdout",
     "output_type": "stream",
     "text": [
      "ASCII value of A =  65\n"
     ]
    }
   ],
   "source": [
    "letter = input(\"Enter at character: \")\n",
    "\n",
    "ascii = ord(letter)\n",
    "\n",
    "print(\"ASCII value of A = \", ascii)"
   ]
  },
  {
   "cell_type": "markdown",
   "id": "9eeb47d6",
   "metadata": {},
   "source": [
    "## Problem 3: Convert Celsius to Fahrenheit\n",
    "\n",
    "### 📝 Problem Statement\n",
    "Write a program to **convert a temperature from Celsius to Fahrenheit**.\n",
    "\n",
    "The program should:\n",
    "- Prompt the user to enter a temperature in **Celsius**\n",
    "- Convert it to **Fahrenheit** using the formula:\n",
    "  ```\n",
    "  Fahrenheit = (Celsius × 9/5) + 32\n",
    "  ```\n",
    "- Display the result\n",
    "\n",
    "---\n",
    "\n",
    "### 🔢 Input\n",
    "- A floating-point or integer number representing temperature in Celsius\n",
    "\n",
    "#### Example Input\n",
    "```\n",
    "Enter temperature in Celsius: 37\n",
    "```\n",
    "\n",
    "---\n",
    "\n",
    "### 📤 Output\n",
    "- A floating-point number representing temperature in Fahrenheit\n",
    "\n",
    "#### Example Output\n",
    "```\n",
    "Temperature in Fahrenheit = 98.6\n",
    "```\n",
    "\n",
    "---"
   ]
  },
  {
   "cell_type": "code",
   "execution_count": 3,
   "id": "dead6b63",
   "metadata": {},
   "outputs": [
    {
     "name": "stdout",
     "output_type": "stream",
     "text": [
      "Temperature in Fahrenheit =  96.8\n"
     ]
    }
   ],
   "source": [
    "celsius = int(input(\"Enter temperature in Celsius: \"))\n",
    "\n",
    "fh = ((celsius * 9)/5) + 32\n",
    "\n",
    "print(\"Temperature in Fahrenheit = \", fh)"
   ]
  },
  {
   "cell_type": "markdown",
   "id": "3d4096ab",
   "metadata": {},
   "source": [
    "## Problem 4: Swap Value of Two Variables\n",
    "\n",
    "### 📝 Problem Statement\n",
    "Write a program to **swap the values of two variables**.\n",
    "\n",
    "The program should:\n",
    "- Prompt the user to enter two values\n",
    "- Swap their values using a temporary variable (or using arithmetic operations if preferred)\n",
    "- Display the values before and after swapping\n",
    "\n",
    "---\n",
    "\n",
    "### 🔢 Input\n",
    "- Two integers (or floats) representing the values of variable `a` and `b`\n",
    "\n",
    "#### Example Input\n",
    "```\n",
    "Enter first number: 10\n",
    "Enter second number: 20\n",
    "```\n",
    "\n",
    "---\n",
    "\n",
    "### 📤 Output\n",
    "- The values of the variables after swapping\n",
    "\n",
    "#### Example Output\n",
    "```\n",
    "Before Swapping:\n",
    "a = 10, b = 20\n",
    "\n",
    "After Swapping:\n",
    "a = 20, b = 10\n",
    "```\n",
    "\n",
    "---"
   ]
  },
  {
   "cell_type": "code",
   "execution_count": 4,
   "id": "7290aa4a",
   "metadata": {},
   "outputs": [
    {
     "name": "stdout",
     "output_type": "stream",
     "text": [
      "Before Swapping:\n",
      "a = 5, b = 3\n",
      "After Swapping:\n",
      "a = 3, b = 5\n"
     ]
    }
   ],
   "source": [
    "a = int(input(\"Enter first number: \"))\n",
    "b = int(input(\"Enter second number: \"))\n",
    "\n",
    "print(f\"Before Swapping:\\na = {a}, b = {b}\")\n",
    "\n",
    "temp = a\n",
    "a = b\n",
    "b = temp\n",
    "\n",
    "print(f\"After Swapping:\\na = {a}, b = {b}\")"
   ]
  },
  {
   "cell_type": "markdown",
   "id": "c256e526",
   "metadata": {},
   "source": [
    "## Problem 5: Check if a Number is Odd or Even\n",
    "\n",
    "### 📝 Problem Statement\n",
    "Write a program to **check whether a given number is odd or even**.\n",
    "\n",
    "The program should:\n",
    "- Prompt the user to enter a number\n",
    "- Determine whether the number is even or odd using the modulus operator `%`\n",
    "- Display the result\n",
    "\n",
    "---\n",
    "\n",
    "### 🔢 Input\n",
    "- An integer number\n",
    "\n",
    "#### Example Input\n",
    "```\n",
    "Enter a number: 17\n",
    "```\n",
    "\n",
    "---\n",
    "\n",
    "### 📤 Output\n",
    "- A message stating whether the number is odd or even\n",
    "\n",
    "#### Example Output\n",
    "```\n",
    "17 is an odd number\n",
    "```\n",
    "\n",
    "---"
   ]
  },
  {
   "cell_type": "code",
   "execution_count": 5,
   "id": "32c34b24",
   "metadata": {},
   "outputs": [
    {
     "name": "stdout",
     "output_type": "stream",
     "text": [
      "16 is an even number\n"
     ]
    }
   ],
   "source": [
    "num = int(input(\"Enter a number: \"))\n",
    "\n",
    "if num%2 == 0:\n",
    "    print(f\"{num} is an even number\")\n",
    "else:\n",
    "    print(f\"{num} is an odd number\")"
   ]
  },
  {
   "cell_type": "markdown",
   "id": "f24216d8",
   "metadata": {},
   "source": [
    "## Problem 6: Check Whether a Character is Vowel or Consonant\n",
    "\n",
    "### 📝 Problem Statement\n",
    "Write a program to **check whether a given character is a vowel or a consonant**.\n",
    "\n",
    "The program should:\n",
    "- Prompt the user to enter a single alphabet character\n",
    "- Check whether it is a vowel (`a`, `e`, `i`, `o`, `u` — case insensitive)\n",
    "- Display whether it is a vowel or consonant\n",
    "\n",
    "---\n",
    "\n",
    "### 🔢 Input\n",
    "- A single alphabet character\n",
    "\n",
    "#### Example Input\n",
    "```\n",
    "Enter a character: e\n",
    "```\n",
    "\n",
    "---\n",
    "\n",
    "### 📤 Output\n",
    "- A message stating whether the character is a vowel or a consonant\n",
    "\n",
    "#### Example Output\n",
    "```\n",
    "e is a vowel\n",
    "```\n",
    "\n",
    "---"
   ]
  },
  {
   "cell_type": "code",
   "execution_count": 7,
   "id": "78d65c03",
   "metadata": {},
   "outputs": [
    {
     "name": "stdout",
     "output_type": "stream",
     "text": [
      "e is a vowel\n"
     ]
    }
   ],
   "source": [
    "letter = input(\"Enter a character: \").lower()\n",
    "\n",
    "vowels = ['a', 'e', 'i', 'o', 'u']\n",
    "\n",
    "if letter in vowels:\n",
    "    print(f\"{letter} is a vowel\")\n",
    "else:\n",
    "    print(f\"{letter} is a consonent\")"
   ]
  },
  {
   "cell_type": "markdown",
   "id": "ea6cc1bf",
   "metadata": {},
   "source": [
    "## Problem 7: Find Largest Among Three Numbers\n",
    "\n",
    "### 📝 Problem Statement\n",
    "Write a program to **find the largest number among three given numbers**.\n",
    "\n",
    "The program should:\n",
    "- Prompt the user to enter three numbers\n",
    "- Compare them using conditional statements\n",
    "- Display the largest number among the three\n",
    "\n",
    "---\n",
    "\n",
    "### 🔢 Input\n",
    "- Three numbers (integers or floats)\n",
    "\n",
    "#### Example Input\n",
    "```\n",
    "Enter first number: 45\n",
    "Enter second number: 89\n",
    "Enter third number: 12\n",
    "```\n",
    "\n",
    "---\n",
    "\n",
    "### 📤 Output\n",
    "- A message showing the largest of the three numbers\n",
    "\n",
    "#### Example Output\n",
    "```\n",
    "The largest number is 89\n",
    "```\n",
    "\n",
    "---"
   ]
  },
  {
   "cell_type": "code",
   "execution_count": 14,
   "id": "3a729530",
   "metadata": {},
   "outputs": [
    {
     "name": "stdout",
     "output_type": "stream",
     "text": [
      "The numbers entered are: 9, 0, 6\n",
      "The largest number is 9\n"
     ]
    }
   ],
   "source": [
    "a = int(input(\"Enter first number: \"))\n",
    "b = int(input(\"Enter second number: \"))\n",
    "c = int(input(\"Enter third number: \"))\n",
    "\n",
    "print(\"The numbers entered are: \", end=\"\")\n",
    "print( a, b, c, sep=\", \")\n",
    "\n",
    "if a > b and a > c:\n",
    "    print(\"The largest number is\", a)\n",
    "elif a < b and b > c:\n",
    "    print(\"The largest number is\", b)\n",
    "elif a < b and b < c:\n",
    "    print(\"The largest number is\", c)"
   ]
  },
  {
   "cell_type": "markdown",
   "id": "e918cf56",
   "metadata": {},
   "source": [
    "## Problem 8: Leap Year Checking\n",
    "\n",
    "### 📝 Problem Statement\n",
    "Write a program to **check whether a given year is a leap year or not**.\n",
    "\n",
    "The program should:\n",
    "- Prompt the user to enter a year\n",
    "- Use the following rules to determine if it is a leap year:\n",
    "  - If the year is divisible by 4, it's a leap year\n",
    "  - Except if it is divisible by 100, then it's not a leap year\n",
    "  - Unless it is also divisible by 400, then it is a leap year\n",
    "\n",
    "---\n",
    "\n",
    "### 🔢 Input\n",
    "- An integer representing the year\n",
    "\n",
    "#### Example Input\n",
    "```\n",
    "Enter a year: 2024\n",
    "```\n",
    "\n",
    "---\n",
    "\n",
    "### 📤 Output\n",
    "- A message indicating whether the year is a leap year or not\n",
    "\n",
    "#### Example Output\n",
    "```\n",
    "2024 is a leap year\n",
    "```\n",
    "\n",
    "---"
   ]
  },
  {
   "cell_type": "code",
   "execution_count": 19,
   "id": "fae7062f",
   "metadata": {},
   "outputs": [
    {
     "name": "stdout",
     "output_type": "stream",
     "text": [
      "1900 is not a leap year\n"
     ]
    }
   ],
   "source": [
    "year = int(input(\"Enter a year: \"))\n",
    "\n",
    "if year % 4 == 0:\n",
    "    if year % 100 != 0:\n",
    "        print(f\"{year} is a leap year\")\n",
    "    else:\n",
    "        if year % 400 == 0:\n",
    "            print(f\"{year} is a leap year\")\n",
    "        else:\n",
    "            print(f\"{year} is not a leap year\")\n",
    "else:\n",
    "    print(f\"{year} is not a leap year\")\n",
    "    "
   ]
  },
  {
   "cell_type": "markdown",
   "id": "977fa2c5",
   "metadata": {},
   "source": [
    "## Problem 9: Positive, Negative, or Zero Checking\n",
    "\n",
    "### 📝 Problem Statement\n",
    "Write a program to **check whether a given number is positive, negative, or zero**.\n",
    "\n",
    "The program should:\n",
    "- Prompt the user to enter a number\n",
    "- Use conditional statements to determine:\n",
    "  - If the number is greater than zero → it's positive\n",
    "  - If the number is less than zero → it's negative\n",
    "  - If the number is equal to zero → it's zero\n",
    "- Display the result\n",
    "\n",
    "---\n",
    "\n",
    "### 🔢 Input\n",
    "- A number (integer or float)\n",
    "\n",
    "#### Example Input\n",
    "```\n",
    "Enter a number: -25\n",
    "```\n",
    "\n",
    "---\n",
    "\n",
    "### 📤 Output\n",
    "- A message indicating whether the number is positive, negative, or zero\n",
    "\n",
    "#### Example Output\n",
    "```\n",
    "The number is negative\n",
    "```\n",
    "\n",
    "---"
   ]
  },
  {
   "cell_type": "code",
   "execution_count": 24,
   "id": "6cdf2fa9",
   "metadata": {},
   "outputs": [
    {
     "name": "stdout",
     "output_type": "stream",
     "text": [
      "-2 is negative\n"
     ]
    }
   ],
   "source": [
    "num = int(input(\"Enter a number: \"))\n",
    "\n",
    "print(f\"{num} is\", end = \" \")\n",
    "\n",
    "if num > 0:\n",
    "    print(\"positive\")\n",
    "elif num == 0:\n",
    "    print(\"zero\")\n",
    "else:\n",
    "    print(\"negative\")"
   ]
  },
  {
   "cell_type": "markdown",
   "id": "4502e889",
   "metadata": {},
   "source": [
    "## Problem 10: Quadratic Equation\n",
    "\n",
    "### 📝 Problem Statement\n",
    "Write a program to **solve a quadratic equation** of the form:\n",
    "\n",
    "```\n",
    "ax² + bx + c = 0\n",
    "```\n",
    "\n",
    "The program should:\n",
    "- Prompt the user to enter the values of `a`, `b`, and `c`\n",
    "- Calculate the discriminant `D = b² - 4ac`\n",
    "- Determine the nature of the roots:\n",
    "  - If D > 0 → Two distinct real roots\n",
    "  - If D == 0 → Two equal real roots\n",
    "  - If D < 0 → Two complex roots\n",
    "- Use the quadratic formula to compute the roots:\n",
    "  ```\n",
    "  root1 = (-b + √D) / (2a)\n",
    "  root2 = (-b - √D) / (2a)\n",
    "  ```\n",
    "\n",
    "---\n",
    "\n",
    "### 🔢 Input\n",
    "- Three numbers `a`, `b`, and `c` (floats or integers)\n",
    "\n",
    "#### Example Input\n",
    "```\n",
    "Enter a: 1\n",
    "Enter b: -3\n",
    "Enter c: 2\n",
    "```\n",
    "\n",
    "---\n",
    "\n",
    "### 📤 Output\n",
    "- Two roots of the quadratic equation, real or complex\n",
    "\n",
    "#### Example Output\n",
    "```\n",
    "The roots are real and different.\n",
    "Root 1 = 2.0\n",
    "Root 2 = 1.0\n",
    "```\n",
    "\n",
    "---"
   ]
  },
  {
   "cell_type": "code",
   "execution_count": 8,
   "id": "d06d6c01",
   "metadata": {},
   "outputs": [
    {
     "name": "stdout",
     "output_type": "stream",
     "text": [
      "Roots are real and distinct\n",
      "Root 1 = 2.0\n",
      "Root 2 = 1.0\n"
     ]
    }
   ],
   "source": [
    "from math import sqrt\n",
    "a = int(input(\"Enter a: \"))\n",
    "b = int(input(\"Enter b: \"))\n",
    "c = int(input(\"Enter c: \"))\n",
    "\n",
    "d = (b*b) - (4*a*c)\n",
    "\n",
    "r1 = ((-b) + sqrt(d))/(2*a)\n",
    "r2 = ((-b) - sqrt(d))/(2*a)\n",
    "\n",
    "if d > 0:\n",
    "    print(\"Roots are real and distinct\")\n",
    "elif d == 0:\n",
    "    print(\"Roots are real and equal\")\n",
    "else:\n",
    "    print(\"Roots are complex\")\n",
    "\n",
    "print(f\"Root 1 = {r1}\\nRoot 2 = {r2}\")"
   ]
  }
 ],
 "metadata": {
  "kernelspec": {
   "display_name": "env",
   "language": "python",
   "name": "python3"
  },
  "language_info": {
   "codemirror_mode": {
    "name": "ipython",
    "version": 3
   },
   "file_extension": ".py",
   "mimetype": "text/x-python",
   "name": "python",
   "nbconvert_exporter": "python",
   "pygments_lexer": "ipython3",
   "version": "3.13.3"
  }
 },
 "nbformat": 4,
 "nbformat_minor": 5
}
